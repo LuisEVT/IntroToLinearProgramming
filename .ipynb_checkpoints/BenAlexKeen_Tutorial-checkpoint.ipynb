{
 "cells": [
  {
   "cell_type": "code",
   "execution_count": 1,
   "metadata": {},
   "outputs": [],
   "source": [
    "# LINEAR PROGRAMMING PACKAGE\n",
    "import pulp"
   ]
  },
  {
   "cell_type": "markdown",
   "metadata": {},
   "source": [
    "### Problem\n",
    "Maximize: <br>\n",
    "$Z = 4x + 3y$\n",
    "\n",
    "Contraints:<br>\n",
    "$x \\ge 0$ <br>\n",
    "$y \\ge 2$ <br>\n",
    "$2y \\le 25-x$ <br>\n",
    "$4y \\ge 2x-8$ <br>\n",
    "$y \\le 2x-5$ <br>"
   ]
  },
  {
   "cell_type": "code",
   "execution_count": 2,
   "metadata": {},
   "outputs": [],
   "source": [
    "# INSTANTIATE LP OBJECT\n",
    "problem = pulp.LpProblem('MaxFunction',pulp.LpMaximize)\n",
    "\n",
    "\n",
    "# INSTANTIATE LP VARIABLES\n",
    "x = pulp.LpVariable('x', lowBound = 0, cat = 'Continuous') # X-VALUE IS >= 0\n",
    "y = pulp.LpVariable('y', lowBound = 2, cat = 'Continuous') # Y-VALUE IS >= 2"
   ]
  },
  {
   "cell_type": "markdown",
   "metadata": {},
   "source": [
    "The Objective function is added first. Followed by the constraints. "
   ]
  },
  {
   "cell_type": "code",
   "execution_count": 3,
   "metadata": {},
   "outputs": [],
   "source": [
    "# OBJECTIVE FUNCTION\n",
    "problem += 4*x + 3*y, 'Z'\n",
    "\n",
    "# Constraints\n",
    "problem += 2*y <= 25 - x\n",
    "problem += 4*y >= 2*x - 8\n",
    "problem += y <= 2*x - 5"
   ]
  },
  {
   "cell_type": "code",
   "execution_count": 4,
   "metadata": {},
   "outputs": [
    {
     "name": "stdout",
     "output_type": "stream",
     "text": [
      "MaxFunction:\n",
      "MAXIMIZE\n",
      "4*x + 3*y + 0\n",
      "SUBJECT TO\n",
      "_C1: x + 2 y <= 25\n",
      "\n",
      "_C2: - 2 x + 4 y >= -8\n",
      "\n",
      "_C3: - 2 x + y <= -5\n",
      "\n",
      "VARIABLES\n",
      "x Continuous\n",
      "2 <= y Continuous\n",
      "\n"
     ]
    }
   ],
   "source": [
    "print(problem)"
   ]
  },
  {
   "cell_type": "code",
   "execution_count": 5,
   "metadata": {},
   "outputs": [
    {
     "name": "stdout",
     "output_type": "stream",
     "text": [
      "Status: Optimal\n"
     ]
    }
   ],
   "source": [
    "# SOLVE THE LP PROBLEM\n",
    "problem.solve()\n",
    "\n",
    "# DETERMINE THE STATUS OF THE LP PROBLEM\n",
    "status = pulp.LpStatus[problem.status]\n",
    "print('Status:',status)"
   ]
  },
  {
   "cell_type": "code",
   "execution_count": 6,
   "metadata": {},
   "outputs": [
    {
     "name": "stdout",
     "output_type": "stream",
     "text": [
      "[14.5, 5.25]\n"
     ]
    }
   ],
   "source": [
    "print([variable.varValue for variable in problem.variables()])"
   ]
  },
  {
   "cell_type": "code",
   "execution_count": 7,
   "metadata": {},
   "outputs": [
    {
     "name": "stdout",
     "output_type": "stream",
     "text": [
      "73.75\n"
     ]
    }
   ],
   "source": [
    "# DETERMINE THE OBJECTIVE FUNCTION USING THE VARIABLES\n",
    "maxVal = pulp.value(problem.objective)\n",
    "print(maxVal)"
   ]
  },
  {
   "cell_type": "markdown",
   "metadata": {},
   "source": [
    "## Real World Example: Blending Problem"
   ]
  },
  {
   "cell_type": "markdown",
   "metadata": {},
   "source": [
    "<table style=\"width:75%\">\n",
    "  <tr>\n",
    "    <th>Ingredient</th>\n",
    "    <th>Cost (Euro/kg) </th> \n",
    "    <th>Availability (kg) </th>\n",
    "  </tr>\n",
    "  <tr>\n",
    "    <td>Pork</td>\n",
    "    <td>4.32</td> \n",
    "    <td>30</td>\n",
    "  </tr>\n",
    "  <tr>\n",
    "    <td>Wheat</td>\n",
    "    <td>2.46</td> \n",
    "    <td>20</td>\n",
    "  </tr>\n",
    "  <tr>\n",
    "    <td>Starch</td>\n",
    "    <td>1.86</td> \n",
    "    <td>17</td>\n",
    "  </tr>\n",
    "</table>"
   ]
  },
  {
   "cell_type": "markdown",
   "metadata": {},
   "source": [
    "There are  2 types of sausage:\n",
    "- Economy (>40% Pork)\n",
    "- Premium (>60% Pork)\n",
    "\n",
    "Note: <br>\n",
    "- One sausage is 50 grams (0.05 kg) <br>\n",
    "- According to government regulations, the most starch we can use in our sausages is 25%\n",
    "- 23kg of pork was bought and must go on the sausage.\n",
    "- There is a demand for 350 economy sausages and 500 premium sausages.\n",
    "\n",
    "Problem: Determine how to most cost effectively blend the sausages.\n",
    "\n",
    "Variables: <br>\n",
    "\n",
    "$p_e=$Pork in the economy sausages (kg) <br>\n",
    "$w_e=$Wheat in the economy sausages (kg) <br>\n",
    "$s_e=$Starch in the economy sausages (kg) <br>\n",
    "$p_p=$Pork in the premium sausages (kg) <br>\n",
    "$w_p=$Wheat in the premium sausages (kg) <br>\n",
    "$s_p=$Starch in the premium sausages (kg) <br>\n",
    "\n",
    "Objective Function: <br>\n",
    "$Cost=4.32(p_e+p_p)+2.46(w_e+w_p)+1.86(s_e+s_p)$\n",
    "\n",
    "Constraints: <br>\n",
    "$p_e+w_e+s_e=350 \\times 0.05$ <br>\n",
    "$p_p+w_p+s_p=500 \\times 0.05$ <br>\n",
    "$p_e≥0.4(p_e+w_e+s_e)$ <br>\n",
    "$p_p≥0.6(p_p+w_p+s_p)$ <br>\n",
    "$s_e≤0.25(p_e+w_e+s_e)$ <br>\n",
    "$s_p≤0.25(p_p+w_p+s_p)$ <br>\n",
    "$p_e+p_p≤30$ <br>\n",
    "$w_e+w_p≤20$ <br>\n",
    "$s_e+s_p≤17$ <br>\n",
    "$p_e+p_p≥23$ <br>"
   ]
  },
  {
   "cell_type": "code",
   "execution_count": 8,
   "metadata": {},
   "outputs": [
    {
     "name": "stdout",
     "output_type": "stream",
     "text": [
      "  Ingredient  Cost  Availability\n",
      "0       Pork  4.32            30\n",
      "1      Wheat  2.46            20\n",
      "2     Starch  1.86            17\n"
     ]
    }
   ],
   "source": [
    "import pandas as pd\n",
    "\n",
    "# WRITE THE TABLE DATA INTO A DICTIONARY\n",
    "dictVar = {'Ingredient':['Pork','Wheat','Starch'],\n",
    "          'Cost':[4.32,2.46,1.86],\n",
    "          'Availability': [30, 20, 17]}\n",
    "\n",
    "# CREATE A PANDAS DATAFRAME USING THE DICTIONARY ABOVE\n",
    "df = pd.DataFrame(dictVar)\n",
    "\n",
    "print(df)\n"
   ]
  },
  {
   "cell_type": "code",
   "execution_count": 9,
   "metadata": {},
   "outputs": [],
   "source": [
    "# INSTANTIATE LP OBJECT\n",
    "model = pulp.LpProblem('MinCostBlenderProblem',pulp.LpMinimize)\n",
    "\n",
    "\n",
    "# CREATE STRING VARIABLES LIST\n",
    "sausageType = ['Economy','Premium']\n",
    "\n",
    "\n",
    "# CREATE THE VARIABLES: p_e , p_s , s_e, s_p , w_p , w_e\n",
    "# THE LP DICTIONARY STORED THE VARIABLES IN KEYS ('sausage_type','ingredient')\n",
    "varDict = pulp.LpVariable.dicts(\"weight kg\",\n",
    "                                     ((i, j) for i in sausageType for j in df['Ingredient']),\n",
    "                                     lowBound=0,\n",
    "                                     cat='Continuous')"
   ]
  },
  {
   "cell_type": "code",
   "execution_count": 10,
   "metadata": {},
   "outputs": [],
   "source": [
    "# OBJECTIVE FUNCTION\n",
    "\n",
    "# LIST WILL STORE THE THREE SUMS VARIABLES\n",
    "obj = [0 ,0 ,0]\n",
    "\n",
    "# ITERATE EACH ROW OF THE DATAFRAME\n",
    "for ii,row in df.iterrows():\n",
    "    obj[ii] = row['Cost'] * ( varDict['Economy',row['Ingredient']] + varDict['Premium',row['Ingredient']] )\n",
    "\n",
    "# 'lpSum' WILL ADD ALL THE STATEMENTS TOGETHER TO CREATE ONE EQUATION\n",
    "model += pulp.lpSum(obj)\n",
    "    "
   ]
  },
  {
   "cell_type": "code",
   "execution_count": 11,
   "metadata": {},
   "outputs": [],
   "source": [
    "# CONSTRAINTS\n",
    "\n",
    "\n",
    "# 350 ECONOMY AND 500 PREMIUM AT 0.05 KG\n",
    "const1 = [varDict['Economy',ingred] for ingred in df['Ingredient']]\n",
    "model += pulp.lpSum(const1) == 350 * 0.05\n",
    "\n",
    "const2 = [varDict['Premium',ingred] for ingred in df['Ingredient']]\n",
    "model += pulp.lpSum(const2) == 500 * 0.05\n",
    "\n",
    "\n",
    "# ECONOMY HAS >= 40% PORK, PREMIUM >= 60%\n",
    "const3 = [varDict['Economy',ingred] for ingred in df['Ingredient']]\n",
    "model += varDict['Economy','Pork'] >= 0.4 * pulp.lpSum(const3)\n",
    "\n",
    "const4 = [varDict['Premium',ingred] for ingred in df['Ingredient']]\n",
    "model += varDict['Premium','Pork'] >= 0.6 * pulp.lpSum(const4)\n",
    "\n",
    "# SAUSAGE MUST BE <= 25%\n",
    "const5 = [varDict['Economy',ingred] for ingred in df['Ingredient']]\n",
    "model += varDict['Economy','Starch'] <= 0.25 * pulp.lpSum(const5)\n",
    "\n",
    "const6 = [varDict['Premium',ingred] for ingred in df['Ingredient']]\n",
    "model += varDict['Premium','Starch'] <= 0.25 * pulp.lpSum(const6)\n",
    "\n",
    "\n",
    "# THERE ARE RESTRICTIONS TO HOW MUCH PORK, WEHAT, AND STARCH IS AVAILABLE\n",
    "\n",
    "for ingred in df['Ingredient']:\n",
    "    model += varDict['Economy',ingred] + varDict['Premium',ingred] <= df[ df['Ingredient'] == ingred ]['Availability']\n",
    "\n",
    "\n",
    "\n",
    "# THERE IS 23 KG THAT MUST BE USED GO\n",
    "model += varDict['Economy','Pork'] + varDict['Premium','Pork'] >= 23\n",
    "\n",
    "\n",
    "\n",
    "#print(model)"
   ]
  },
  {
   "cell_type": "code",
   "execution_count": 12,
   "metadata": {},
   "outputs": [
    {
     "name": "stdout",
     "output_type": "stream",
     "text": [
      "Status: Optimal\n"
     ]
    }
   ],
   "source": [
    "# SOLVE THE LP PROBLEM\n",
    "model.solve()\n",
    "\n",
    "# DETERMINE THE STATUS OF THE LP PROBLEM\n",
    "status = pulp.LpStatus[model.status]\n",
    "print('Status:',status)"
   ]
  },
  {
   "cell_type": "code",
   "execution_count": 13,
   "metadata": {},
   "outputs": [
    {
     "name": "stdout",
     "output_type": "stream",
     "text": [
      "The weight of Pork in Economy sausages is 8.0 kg\n",
      "The weight of Wheat in Economy sausages is 5.125 kg\n",
      "The weight of Starch in Economy sausages is 4.375 kg\n",
      "The weight of Pork in Premium sausages is 15.0 kg\n",
      "The weight of Wheat in Premium sausages is 3.75 kg\n",
      "The weight of Starch in Premium sausages is 6.25 kg\n"
     ]
    }
   ],
   "source": [
    "# LOOK AT EVERY LP VARIABLE\n",
    "# AT NOTE WHAT THE OPTIMAL VALUE IS TO MINIMIZE THE OBJ. FUNCTION\n",
    "for var in varDict:\n",
    "    var_value = varDict[var].varValue\n",
    "    print(\"The weight of {0} in {1} sausages is {2} kg\".format(var[1], var[0], var_value))"
   ]
  },
  {
   "cell_type": "code",
   "execution_count": 14,
   "metadata": {},
   "outputs": [
    {
     "name": "stdout",
     "output_type": "stream",
     "text": [
      "The total cost is €140.96 for 350 economy sausages and 500 premium sausages\n"
     ]
    }
   ],
   "source": [
    "# DETERMINE THE MINIMUL COST BASED ON THE VARIABLES ABOVE\n",
    "total_cost = pulp.value(model.objective)\n",
    "\n",
    "print(\"The total cost is €{} for 350 economy sausages and 500 premium sausages\".format(round(total_cost, 2)))"
   ]
  },
  {
   "cell_type": "code",
   "execution_count": null,
   "metadata": {},
   "outputs": [],
   "source": []
  }
 ],
 "metadata": {
  "kernelspec": {
   "display_name": "Python 3",
   "language": "python",
   "name": "python3"
  },
  "language_info": {
   "codemirror_mode": {
    "name": "ipython",
    "version": 3
   },
   "file_extension": ".py",
   "mimetype": "text/x-python",
   "name": "python",
   "nbconvert_exporter": "python",
   "pygments_lexer": "ipython3",
   "version": "3.8.3"
  }
 },
 "nbformat": 4,
 "nbformat_minor": 4
}
